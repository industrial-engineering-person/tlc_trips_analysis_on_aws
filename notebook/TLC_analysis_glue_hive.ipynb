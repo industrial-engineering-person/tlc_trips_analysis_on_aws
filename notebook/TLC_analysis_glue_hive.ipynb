{
 "cells": [
  {
   "cell_type": "code",
   "execution_count": 1,
   "metadata": {
    "execution": {
     "iopub.execute_input": "2022-02-08T16:33:00.958332Z",
     "iopub.status.busy": "2022-02-08T16:33:00.958116Z",
     "iopub.status.idle": "2022-02-08T16:33:37.524022Z",
     "shell.execute_reply": "2022-02-08T16:33:37.522849Z",
     "shell.execute_reply.started": "2022-02-08T16:33:00.958308Z"
    },
    "tags": []
   },
   "outputs": [
    {
     "data": {
      "application/vnd.jupyter.widget-view+json": {
       "model_id": "a54d369b6ab44745a8d7f327b9ccdb19",
       "version_major": 2,
       "version_minor": 0
      },
      "text/plain": [
       "VBox()"
      ]
     },
     "metadata": {},
     "output_type": "display_data"
    },
    {
     "name": "stdout",
     "output_type": "stream",
     "text": [
      "Starting Spark application\n"
     ]
    },
    {
     "data": {
      "text/html": [
       "<table>\n",
       "<tr><th>ID</th><th>YARN Application ID</th><th>Kind</th><th>State</th><th>Spark UI</th><th>Driver log</th><th>Current session?</th></tr><tr><td>0</td><td>application_1644337534585_0001</td><td>pyspark</td><td>idle</td><td><a target=\"_blank\" href=\"http://ip-172-31-27-137.ap-northeast-2.compute.internal:20888/proxy/application_1644337534585_0001/\" class=\"emr-proxy-link\" emr-resource=\"j-27QRQUGHRS0HZ\n",
       "\" application-id=\"application_1644337534585_0001\">Link</a></td><td><a target=\"_blank\" href=\"http://ip-172-31-23-169.ap-northeast-2.compute.internal:8042/node/containerlogs/container_1644337534585_0001_01_000001/livy\" >Link</a></td><td>✔</td></tr></table>"
      ],
      "text/plain": [
       "<IPython.core.display.HTML object>"
      ]
     },
     "metadata": {},
     "output_type": "display_data"
    },
    {
     "data": {
      "application/vnd.jupyter.widget-view+json": {
       "model_id": "",
       "version_major": 2,
       "version_minor": 0
      },
      "text/plain": [
       "FloatProgress(value=0.0, bar_style='info', description='Progress:', layout=Layout(height='25px', width='50%'),…"
      ]
     },
     "metadata": {},
     "output_type": "display_data"
    },
    {
     "name": "stdout",
     "output_type": "stream",
     "text": [
      "SparkSession available as 'spark'.\n"
     ]
    },
    {
     "data": {
      "application/vnd.jupyter.widget-view+json": {
       "model_id": "",
       "version_major": 2,
       "version_minor": 0
      },
      "text/plain": [
       "FloatProgress(value=0.0, bar_style='info', description='Progress:', layout=Layout(height='25px', width='50%'),…"
      ]
     },
     "metadata": {},
     "output_type": "display_data"
    }
   ],
   "source": [
    "from pyspark.sql import SparkSession\n",
    "from pyspark import SQLContext\n",
    "bucket = \"onedayproject\"  \n",
    "\n",
    "# hive table 에 데이터를 넣기 위한 옵션 동적파티션\n",
    "spark = SparkSession.builder.appName(\"TLC_analysis_glue_hive\").enableHiveSupport()\\\n",
    "                .config(\"hive.exec.dynamic.partition\", \"true\")\\\n",
    "                .config(\"hive.exec.dynamic.partition.mode\", \"nonstrict\")\\\n",
    "                .getOrCreate()\n",
    "                \n",
    "# %%configure -f\n",
    "# {\"conf\":{\"spark.dynamicAllocation.enabled\":\"false\", \"conf\":\"ww\",~~~~}}\n"
   ]
  },
  {
   "cell_type": "code",
   "execution_count": 2,
   "metadata": {
    "execution": {
     "iopub.execute_input": "2022-02-08T16:33:42.694290Z",
     "iopub.status.busy": "2022-02-08T16:33:42.693783Z",
     "iopub.status.idle": "2022-02-08T16:34:00.158906Z",
     "shell.execute_reply": "2022-02-08T16:34:00.158252Z",
     "shell.execute_reply.started": "2022-02-08T16:33:42.694249Z"
    },
    "tags": []
   },
   "outputs": [
    {
     "data": {
      "application/vnd.jupyter.widget-view+json": {
       "model_id": "45536b19cd17462a805c3cfabef2f7e6",
       "version_major": 2,
       "version_minor": 0
      },
      "text/plain": [
       "VBox()"
      ]
     },
     "metadata": {},
     "output_type": "display_data"
    },
    {
     "data": {
      "application/vnd.jupyter.widget-view+json": {
       "model_id": "",
       "version_major": 2,
       "version_minor": 0
      },
      "text/plain": [
       "FloatProgress(value=0.0, bar_style='info', description='Progress:', layout=Layout(height='25px', width='50%'),…"
      ]
     },
     "metadata": {},
     "output_type": "display_data"
    }
   ],
   "source": [
    "trips_df = spark.read.load(\"s3://\"+ bucket +\"/tlc_tripsdata/yellow_tripdata_2021-01.csv\",\n",
    "                     format=\"csv\", sep=\",\", inferSchema=\"true\", header=\"true\")\n",
    "zone_df =  spark.read.load(\"s3://\"+ bucket +\"/tlc_zonedata/taxi+_zone_lookup.csv\",\n",
    "                     format=\"csv\", sep=\",\", inferSchema=\"true\", header=\"true\")"
   ]
  },
  {
   "cell_type": "code",
   "execution_count": 3,
   "metadata": {
    "execution": {
     "iopub.execute_input": "2022-02-08T16:34:02.070106Z",
     "iopub.status.busy": "2022-02-08T16:34:02.069877Z",
     "iopub.status.idle": "2022-02-08T16:34:02.359997Z",
     "shell.execute_reply": "2022-02-08T16:34:02.359395Z",
     "shell.execute_reply.started": "2022-02-08T16:34:02.070083Z"
    },
    "tags": []
   },
   "outputs": [
    {
     "data": {
      "application/vnd.jupyter.widget-view+json": {
       "model_id": "0858a20f09d644c2ba7356c593c63f49",
       "version_major": 2,
       "version_minor": 0
      },
      "text/plain": [
       "VBox()"
      ]
     },
     "metadata": {},
     "output_type": "display_data"
    },
    {
     "data": {
      "application/vnd.jupyter.widget-view+json": {
       "model_id": "",
       "version_major": 2,
       "version_minor": 0
      },
      "text/plain": [
       "FloatProgress(value=0.0, bar_style='info', description='Progress:', layout=Layout(height='25px', width='50%'),…"
      ]
     },
     "metadata": {},
     "output_type": "display_data"
    }
   ],
   "source": [
    "trips_df.createOrReplaceTempView(\"trips_view\")\n",
    "zone_df.createOrReplaceTempView(\"zone_view\")"
   ]
  },
  {
   "cell_type": "code",
   "execution_count": 23,
   "metadata": {
    "execution": {
     "iopub.execute_input": "2022-02-08T16:50:43.852697Z",
     "iopub.status.busy": "2022-02-08T16:50:43.852453Z",
     "iopub.status.idle": "2022-02-08T16:50:43.943449Z",
     "shell.execute_reply": "2022-02-08T16:50:43.942625Z",
     "shell.execute_reply.started": "2022-02-08T16:50:43.852665Z"
    }
   },
   "outputs": [
    {
     "data": {
      "application/vnd.jupyter.widget-view+json": {
       "model_id": "65e1270997984c39970303b7f6cc9541",
       "version_major": 2,
       "version_minor": 0
      },
      "text/plain": [
       "VBox()"
      ]
     },
     "metadata": {},
     "output_type": "display_data"
    },
    {
     "data": {
      "application/vnd.jupyter.widget-view+json": {
       "model_id": "",
       "version_major": 2,
       "version_minor": 0
      },
      "text/plain": [
       "FloatProgress(value=0.0, bar_style='info', description='Progress:', layout=Layout(height='25px', width='50%'),…"
      ]
     },
     "metadata": {},
     "output_type": "display_data"
    },
    {
     "name": "stdout",
     "output_type": "stream",
     "text": [
      "root\n",
      " |-- VendorID: integer (nullable = true)\n",
      " |-- tpep_pickup_datetime: timestamp (nullable = true)\n",
      " |-- tpep_dropoff_datetime: timestamp (nullable = true)\n",
      " |-- passenger_count: integer (nullable = true)\n",
      " |-- trip_distance: double (nullable = true)\n",
      " |-- RatecodeID: integer (nullable = true)\n",
      " |-- store_and_fwd_flag: string (nullable = true)\n",
      " |-- PULocationID: integer (nullable = true)\n",
      " |-- DOLocationID: integer (nullable = true)\n",
      " |-- payment_type: integer (nullable = true)\n",
      " |-- fare_amount: double (nullable = true)\n",
      " |-- extra: double (nullable = true)\n",
      " |-- mta_tax: double (nullable = true)\n",
      " |-- tip_amount: double (nullable = true)\n",
      " |-- tolls_amount: double (nullable = true)\n",
      " |-- improvement_surcharge: double (nullable = true)\n",
      " |-- total_amount: double (nullable = true)\n",
      " |-- congestion_surcharge: double (nullable = true)"
     ]
    }
   ],
   "source": [
    "trips_df.printSchema()"
   ]
  },
  {
   "cell_type": "code",
   "execution_count": 13,
   "metadata": {
    "execution": {
     "iopub.execute_input": "2022-02-08T16:11:47.644031Z",
     "iopub.status.busy": "2022-02-08T16:11:47.643787Z",
     "iopub.status.idle": "2022-02-08T16:12:05.017880Z",
     "shell.execute_reply": "2022-02-08T16:12:05.017090Z",
     "shell.execute_reply.started": "2022-02-08T16:11:47.644006Z"
    },
    "tags": []
   },
   "outputs": [
    {
     "data": {
      "application/vnd.jupyter.widget-view+json": {
       "model_id": "00ea8970a66f4b38a4ad059581ab4f56",
       "version_major": 2,
       "version_minor": 0
      },
      "text/plain": [
       "VBox()"
      ]
     },
     "metadata": {},
     "output_type": "display_data"
    },
    {
     "data": {
      "application/vnd.jupyter.widget-view+json": {
       "model_id": "",
       "version_major": 2,
       "version_minor": 0
      },
      "text/plain": [
       "FloatProgress(value=0.0, bar_style='info', description='Progress:', layout=Layout(height='25px', width='50%'),…"
      ]
     },
     "metadata": {},
     "output_type": "display_data"
    },
    {
     "name": "stdout",
     "output_type": "stream",
     "text": [
      "+--------+--------------------+---------------------+---------------+-------------+----------+------------------+------------+------------+------------+-----------+-----+-------+----------+------------+---------------------+------------+--------------------+\n",
      "|VendorID|tpep_pickup_datetime|tpep_dropoff_datetime|passenger_count|trip_distance|RatecodeID|store_and_fwd_flag|PULocationID|DOLocationID|payment_type|fare_amount|extra|mta_tax|tip_amount|tolls_amount|improvement_surcharge|total_amount|congestion_surcharge|\n",
      "+--------+--------------------+---------------------+---------------+-------------+----------+------------------+------------+------------+------------+-----------+-----+-------+----------+------------+---------------------+------------+--------------------+\n",
      "|       1| 2021-01-01 00:30:10|  2021-01-01 00:36:12|              1|          2.1|         1|                 N|         142|          43|           2|        8.0|  3.0|    0.5|       0.0|         0.0|                  0.3|        11.8|                 2.5|\n",
      "|       1| 2021-01-01 00:51:20|  2021-01-01 00:52:19|              1|          0.2|         1|                 N|         238|         151|           2|        3.0|  0.5|    0.5|       0.0|         0.0|                  0.3|         4.3|                 0.0|\n",
      "|       1| 2021-01-01 00:43:30|  2021-01-01 01:11:06|              1|         14.7|         1|                 N|         132|         165|           1|       42.0|  0.5|    0.5|      8.65|         0.0|                  0.3|       51.95|                 0.0|\n",
      "|       1| 2021-01-01 00:15:48|  2021-01-01 00:31:01|              0|         10.6|         1|                 N|         138|         132|           1|       29.0|  0.5|    0.5|      6.05|         0.0|                  0.3|       36.35|                 0.0|\n",
      "|       2| 2021-01-01 00:31:49|  2021-01-01 00:48:21|              1|         4.94|         1|                 N|          68|          33|           1|       16.5|  0.5|    0.5|      4.06|         0.0|                  0.3|       24.36|                 2.5|\n",
      "|       1| 2021-01-01 00:16:29|  2021-01-01 00:24:30|              1|          1.6|         1|                 N|         224|          68|           1|        8.0|  3.0|    0.5|      2.35|         0.0|                  0.3|       14.15|                 2.5|\n",
      "|       1| 2021-01-01 00:00:28|  2021-01-01 00:17:28|              1|          4.1|         1|                 N|          95|         157|           2|       16.0|  0.5|    0.5|       0.0|         0.0|                  0.3|        17.3|                 0.0|\n",
      "|       1| 2021-01-01 00:12:29|  2021-01-01 00:30:34|              1|          5.7|         1|                 N|          90|          40|           2|       18.0|  3.0|    0.5|       0.0|         0.0|                  0.3|        21.8|                 2.5|\n",
      "|       1| 2021-01-01 00:39:16|  2021-01-01 01:00:13|              1|          9.1|         1|                 N|          97|         129|           4|       27.5|  0.5|    0.5|       0.0|         0.0|                  0.3|        28.8|                 0.0|\n",
      "|       1| 2021-01-01 00:26:12|  2021-01-01 00:39:46|              2|          2.7|         1|                 N|         263|         142|           1|       12.0|  3.0|    0.5|      3.15|         0.0|                  0.3|       18.95|                 2.5|\n",
      "+--------+--------------------+---------------------+---------------+-------------+----------+------------------+------------+------------+------------+-----------+-----+-------+----------+------------+---------------------+------------+--------------------+"
     ]
    }
   ],
   "source": [
    "spark.sql(\"select * from trips_view limit 10\").show()"
   ]
  },
  {
   "cell_type": "code",
   "execution_count": 14,
   "metadata": {
    "execution": {
     "iopub.execute_input": "2022-02-08T16:12:12.201891Z",
     "iopub.status.busy": "2022-02-08T16:12:12.201652Z",
     "iopub.status.idle": "2022-02-08T16:12:12.977987Z",
     "shell.execute_reply": "2022-02-08T16:12:12.977397Z",
     "shell.execute_reply.started": "2022-02-08T16:12:12.201865Z"
    },
    "tags": []
   },
   "outputs": [
    {
     "data": {
      "application/vnd.jupyter.widget-view+json": {
       "model_id": "d30ddd32fa1f4988bf561f96668de45b",
       "version_major": 2,
       "version_minor": 0
      },
      "text/plain": [
       "VBox()"
      ]
     },
     "metadata": {},
     "output_type": "display_data"
    },
    {
     "data": {
      "application/vnd.jupyter.widget-view+json": {
       "model_id": "",
       "version_major": 2,
       "version_minor": 0
      },
      "text/plain": [
       "FloatProgress(value=0.0, bar_style='info', description='Progress:', layout=Layout(height='25px', width='50%'),…"
      ]
     },
     "metadata": {},
     "output_type": "display_data"
    },
    {
     "name": "stdout",
     "output_type": "stream",
     "text": [
      "+----------+-------------+--------------------+------------+\n",
      "|LocationID|      Borough|                Zone|service_zone|\n",
      "+----------+-------------+--------------------+------------+\n",
      "|         1|          EWR|      Newark Airport|         EWR|\n",
      "|         2|       Queens|         Jamaica Bay|   Boro Zone|\n",
      "|         3|        Bronx|Allerton/Pelham G...|   Boro Zone|\n",
      "|         4|    Manhattan|       Alphabet City| Yellow Zone|\n",
      "|         5|Staten Island|       Arden Heights|   Boro Zone|\n",
      "|         6|Staten Island|Arrochar/Fort Wad...|   Boro Zone|\n",
      "|         7|       Queens|             Astoria|   Boro Zone|\n",
      "|         8|       Queens|        Astoria Park|   Boro Zone|\n",
      "|         9|       Queens|          Auburndale|   Boro Zone|\n",
      "|        10|       Queens|        Baisley Park|   Boro Zone|\n",
      "+----------+-------------+--------------------+------------+"
     ]
    }
   ],
   "source": [
    "spark.sql(\"select * from zone_view limit 10\").show()"
   ]
  },
  {
   "cell_type": "code",
   "execution_count": 4,
   "metadata": {
    "execution": {
     "iopub.execute_input": "2022-02-08T16:34:05.144573Z",
     "iopub.status.busy": "2022-02-08T16:34:05.144355Z",
     "iopub.status.idle": "2022-02-08T16:34:07.464219Z",
     "shell.execute_reply": "2022-02-08T16:34:07.463562Z",
     "shell.execute_reply.started": "2022-02-08T16:34:05.144548Z"
    },
    "tags": []
   },
   "outputs": [
    {
     "data": {
      "application/vnd.jupyter.widget-view+json": {
       "model_id": "0afc7192577a43e9b9719553406d0310",
       "version_major": 2,
       "version_minor": 0
      },
      "text/plain": [
       "VBox()"
      ]
     },
     "metadata": {},
     "output_type": "display_data"
    },
    {
     "data": {
      "application/vnd.jupyter.widget-view+json": {
       "model_id": "",
       "version_major": 2,
       "version_minor": 0
      },
      "text/plain": [
       "FloatProgress(value=0.0, bar_style='info', description='Progress:', layout=Layout(height='25px', width='50%'),…"
      ]
     },
     "metadata": {},
     "output_type": "display_data"
    }
   ],
   "source": [
    "trips_silver_df = sqlContext.sql(\"\"\"\n",
    "SELECT \n",
    "    passenger_count,\n",
    "    PULocationID as pickup_location_id,\n",
    "    DOLocationID as dropoff_location_id,\n",
    "    trip_distance,\n",
    "    HOUR(tpep_pickup_datetime) as pickup_time,\n",
    "    DATE_FORMAT(TO_DATE(tpep_pickup_datetime), 'EEEE') AS day_of_week,\n",
    "    total_amount\n",
    "FROM\n",
    "    trips_view\n",
    "WHERE\n",
    "    total_amount < 5000\n",
    "    AND total_amount > 0\n",
    "    AND trip_distance > 0\n",
    "    AND trip_distance < 500\n",
    "    AND passenger_count < 4\n",
    "    AND TO_DATE(tpep_pickup_datetime) >= '2021-01-01'\n",
    "    AND TO_DATE(tpep_pickup_datetime) < '2021-01-31'\n",
    "\"\"\")\n",
    "\n",
    "trips_silver_df.createOrReplaceTempView(\"trips_silver_df\")"
   ]
  },
  {
   "cell_type": "code",
   "execution_count": 24,
   "metadata": {
    "execution": {
     "iopub.execute_input": "2022-02-08T16:50:43.945360Z",
     "iopub.status.busy": "2022-02-08T16:50:43.944986Z",
     "iopub.status.idle": "2022-02-08T16:50:44.034094Z",
     "shell.execute_reply": "2022-02-08T16:50:44.033375Z",
     "shell.execute_reply.started": "2022-02-08T16:50:43.945323Z"
    },
    "tags": []
   },
   "outputs": [
    {
     "data": {
      "application/vnd.jupyter.widget-view+json": {
       "model_id": "5a8c174d9ba44c0c903b58a17dbc4261",
       "version_major": 2,
       "version_minor": 0
      },
      "text/plain": [
       "VBox()"
      ]
     },
     "metadata": {},
     "output_type": "display_data"
    },
    {
     "data": {
      "application/vnd.jupyter.widget-view+json": {
       "model_id": "",
       "version_major": 2,
       "version_minor": 0
      },
      "text/plain": [
       "FloatProgress(value=0.0, bar_style='info', description='Progress:', layout=Layout(height='25px', width='50%'),…"
      ]
     },
     "metadata": {},
     "output_type": "display_data"
    },
    {
     "name": "stdout",
     "output_type": "stream",
     "text": [
      "root\n",
      " |-- passenger_count: integer (nullable = true)\n",
      " |-- pickup_location_id: integer (nullable = true)\n",
      " |-- dropoff_location_id: integer (nullable = true)\n",
      " |-- trip_distance: double (nullable = true)\n",
      " |-- pickup_time: integer (nullable = true)\n",
      " |-- day_of_week: string (nullable = true)\n",
      " |-- total_amount: double (nullable = true)"
     ]
    }
   ],
   "source": [
    "trips_silver_df.printSchema()"
   ]
  },
  {
   "cell_type": "code",
   "execution_count": 12,
   "metadata": {
    "execution": {
     "iopub.execute_input": "2022-02-08T16:36:06.595494Z",
     "iopub.status.busy": "2022-02-08T16:36:06.595311Z",
     "iopub.status.idle": "2022-02-08T16:36:06.720074Z",
     "shell.execute_reply": "2022-02-08T16:36:06.719413Z",
     "shell.execute_reply.started": "2022-02-08T16:36:06.595472Z"
    },
    "tags": []
   },
   "outputs": [
    {
     "data": {
      "application/vnd.jupyter.widget-view+json": {
       "model_id": "bb3616f9ffe14355bc7b7b11e7184a1f",
       "version_major": 2,
       "version_minor": 0
      },
      "text/plain": [
       "VBox()"
      ]
     },
     "metadata": {},
     "output_type": "display_data"
    },
    {
     "data": {
      "application/vnd.jupyter.widget-view+json": {
       "model_id": "",
       "version_major": 2,
       "version_minor": 0
      },
      "text/plain": [
       "FloatProgress(value=0.0, bar_style='info', description='Progress:', layout=Layout(height='25px', width='50%'),…"
      ]
     },
     "metadata": {},
     "output_type": "display_data"
    }
   ],
   "source": [
    "sqlContext.cacheTable(\"trips_silver_df\")\n",
    "sqlContext.cacheTable(\"zone_view\")\n",
    "# 캐싱을 한테이블과 안한 테이블이 있으면 안한테이블 기준으로 로드하기때문에\n",
    "# 반드시 테이블은 캐싱해주고 밑 sql을 해야 모든 데이터가 메모리에 올라감\n",
    "# 올라가면 빠르게 분석가능"
   ]
  },
  {
   "cell_type": "code",
   "execution_count": 11,
   "metadata": {
    "execution": {
     "iopub.execute_input": "2022-02-08T16:35:40.986557Z",
     "iopub.status.busy": "2022-02-08T16:35:40.986335Z",
     "iopub.status.idle": "2022-02-08T16:36:06.594279Z",
     "shell.execute_reply": "2022-02-08T16:36:06.593728Z",
     "shell.execute_reply.started": "2022-02-08T16:35:40.986534Z"
    },
    "tags": []
   },
   "outputs": [
    {
     "data": {
      "application/vnd.jupyter.widget-view+json": {
       "model_id": "",
       "version_major": 2,
       "version_minor": 0
      },
      "text/plain": [
       "FloatProgress(value=0.0, bar_style='info', description='Progress:', layout=Layout(height='25px', width='50%'),…"
      ]
     },
     "metadata": {},
     "output_type": "display_data"
    },
    {
     "data": {
      "application/vnd.jupyter.widget-view+json": {
       "model_id": "800486f40060402882bd46b7d2140b57",
       "version_major": 2,
       "version_minor": 0
      },
      "text/plain": [
       "VBox(children=(HBox(children=(HTML(value='Type:'), Button(description='Table', layout=Layout(width='70px'), st…"
      ]
     },
     "metadata": {},
     "output_type": "display_data"
    },
    {
     "data": {
      "application/vnd.jupyter.widget-view+json": {
       "model_id": "f840cb258c034a34b60eb8b07dc22158",
       "version_major": 2,
       "version_minor": 0
      },
      "text/plain": [
       "Output()"
      ]
     },
     "metadata": {},
     "output_type": "display_data"
    }
   ],
   "source": [
    "%%sql\n",
    "SELECT count(*) from trips_silver_df"
   ]
  },
  {
   "cell_type": "code",
   "execution_count": null,
   "metadata": {},
   "outputs": [],
   "source": []
  },
  {
   "cell_type": "code",
   "execution_count": null,
   "metadata": {},
   "outputs": [],
   "source": [
    "# hiva table 생성 (glue)"
   ]
  },
  {
   "cell_type": "code",
   "execution_count": 13,
   "metadata": {
    "execution": {
     "iopub.execute_input": "2022-02-08T16:36:22.322184Z",
     "iopub.status.busy": "2022-02-08T16:36:22.321904Z",
     "iopub.status.idle": "2022-02-08T16:36:23.075997Z",
     "shell.execute_reply": "2022-02-08T16:36:23.075386Z",
     "shell.execute_reply.started": "2022-02-08T16:36:22.322147Z"
    },
    "tags": []
   },
   "outputs": [
    {
     "data": {
      "application/vnd.jupyter.widget-view+json": {
       "model_id": "",
       "version_major": 2,
       "version_minor": 0
      },
      "text/plain": [
       "FloatProgress(value=0.0, bar_style='info', description='Progress:', layout=Layout(height='25px', width='50%'),…"
      ]
     },
     "metadata": {},
     "output_type": "display_data"
    },
    {
     "name": "stderr",
     "output_type": "stream",
     "text": [
      "An error was encountered:\n",
      "\"Table or view 'trips_silver_view' already exists in database 'tlc_glue_database';\"\n",
      "Traceback (most recent call last):\n",
      "  File \"/usr/lib/spark/python/lib/pyspark.zip/pyspark/sql/session.py\", line 767, in sql\n",
      "    return DataFrame(self._jsparkSession.sql(sqlQuery), self._wrapped)\n",
      "  File \"/usr/lib/spark/python/lib/py4j-0.10.7-src.zip/py4j/java_gateway.py\", line 1257, in __call__\n",
      "    answer, self.gateway_client, self.target_id, self.name)\n",
      "  File \"/usr/lib/spark/python/lib/pyspark.zip/pyspark/sql/utils.py\", line 71, in deco\n",
      "    raise AnalysisException(s.split(': ', 1)[1], stackTrace)\n",
      "pyspark.sql.utils.AnalysisException: \"Table or view 'trips_silver_view' already exists in database 'tlc_glue_database';\"\n",
      "\n"
     ]
    }
   ],
   "source": [
    "%%sql\n",
    "CREATE EXTERNAL TABLE tlc_glue_database.trips_silver_view\n",
    "(\n",
    "    passenger_count int,\n",
    "    pickup_location_id int,\n",
    "    dropoff_location_id int,\n",
    "    trip_distance double,\n",
    "    pickup_time int,\n",
    "    total_amount double\n",
    ")\n",
    "PARTITIONED BY (\n",
    "    day_of_week string\n",
    ")\n",
    "STORED AS PARQUET\n",
    "LOCATION \"s3://onedayproject/hive/silver/trips_silver_view\"\n",
    "tblproperties (\"parquet.compress\"=\"SNAPPY\" ,\"classification\"=\"parquet\")"
   ]
  },
  {
   "cell_type": "code",
   "execution_count": null,
   "metadata": {},
   "outputs": [],
   "source": []
  },
  {
   "cell_type": "code",
   "execution_count": 16,
   "metadata": {
    "execution": {
     "iopub.execute_input": "2022-02-08T16:38:13.243231Z",
     "iopub.status.busy": "2022-02-08T16:38:13.243010Z",
     "iopub.status.idle": "2022-02-08T16:38:20.567330Z",
     "shell.execute_reply": "2022-02-08T16:38:20.566732Z",
     "shell.execute_reply.started": "2022-02-08T16:38:13.243207Z"
    },
    "tags": []
   },
   "outputs": [
    {
     "data": {
      "application/vnd.jupyter.widget-view+json": {
       "model_id": "f9bbabc111e14ccdb1a013b2d8b789b9",
       "version_major": 2,
       "version_minor": 0
      },
      "text/plain": [
       "VBox()"
      ]
     },
     "metadata": {},
     "output_type": "display_data"
    },
    {
     "data": {
      "application/vnd.jupyter.widget-view+json": {
       "model_id": "",
       "version_major": 2,
       "version_minor": 0
      },
      "text/plain": [
       "FloatProgress(value=0.0, bar_style='info', description='Progress:', layout=Layout(height='25px', width='50%'),…"
      ]
     },
     "metadata": {},
     "output_type": "display_data"
    },
    {
     "name": "stdout",
     "output_type": "stream",
     "text": [
      "DataFrame[]"
     ]
    }
   ],
   "source": [
    "# hive table 에 insert 이렇게 저장하는 방식이 바로 파케이로 저장하는것보다\n",
    "# 10배미만으로 빠름\n",
    "sqlContext.sql(\"\"\"\n",
    "    INSERT overwrite table tlc_glue_database.trips_silver_view\n",
    "    PARTITION(day_of_week)\n",
    "    SELECT \n",
    "            passenger_count,\n",
    "            pickup_location_id,\n",
    "            dropoff_location_id,\n",
    "            trip_distance,\n",
    "            pickup_time,\n",
    "            total_amount,\n",
    "            day_of_week\n",
    "    FROM\n",
    "            trips_silver_df\n",
    "\"\"\")"
   ]
  },
  {
   "cell_type": "code",
   "execution_count": null,
   "metadata": {},
   "outputs": [],
   "source": []
  },
  {
   "cell_type": "code",
   "execution_count": 17,
   "metadata": {
    "execution": {
     "iopub.execute_input": "2022-02-08T16:38:44.910818Z",
     "iopub.status.busy": "2022-02-08T16:38:44.910585Z",
     "iopub.status.idle": "2022-02-08T16:38:48.632144Z",
     "shell.execute_reply": "2022-02-08T16:38:48.631483Z",
     "shell.execute_reply.started": "2022-02-08T16:38:44.910791Z"
    },
    "tags": []
   },
   "outputs": [
    {
     "data": {
      "application/vnd.jupyter.widget-view+json": {
       "model_id": "",
       "version_major": 2,
       "version_minor": 0
      },
      "text/plain": [
       "FloatProgress(value=0.0, bar_style='info', description='Progress:', layout=Layout(height='25px', width='50%'),…"
      ]
     },
     "metadata": {},
     "output_type": "display_data"
    },
    {
     "data": {
      "application/vnd.jupyter.widget-view+json": {
       "model_id": "9b685c41b31d4f3b877f2b56f67e1019",
       "version_major": 2,
       "version_minor": 0
      },
      "text/plain": [
       "VBox(children=(HBox(children=(HTML(value='Type:'), Button(description='Table', layout=Layout(width='70px'), st…"
      ]
     },
     "metadata": {},
     "output_type": "display_data"
    },
    {
     "data": {
      "application/vnd.jupyter.widget-view+json": {
       "model_id": "9b2dda6ad71a49c2bd5c61013b2c50b1",
       "version_major": 2,
       "version_minor": 0
      },
      "text/plain": [
       "Output()"
      ]
     },
     "metadata": {},
     "output_type": "display_data"
    }
   ],
   "source": [
    "%%sql\n",
    "select * from tlc_glue_database.trips_silver_view"
   ]
  },
  {
   "cell_type": "code",
   "execution_count": null,
   "metadata": {},
   "outputs": [],
   "source": []
  },
  {
   "cell_type": "code",
   "execution_count": 20,
   "metadata": {
    "execution": {
     "iopub.execute_input": "2022-02-08T16:41:18.501707Z",
     "iopub.status.busy": "2022-02-08T16:41:18.501407Z",
     "iopub.status.idle": "2022-02-08T16:41:19.301852Z",
     "shell.execute_reply": "2022-02-08T16:41:19.301083Z",
     "shell.execute_reply.started": "2022-02-08T16:41:18.501678Z"
    },
    "tags": []
   },
   "outputs": [
    {
     "data": {
      "application/vnd.jupyter.widget-view+json": {
       "model_id": "b9b02713b926462c8af4af511ad85f9e",
       "version_major": 2,
       "version_minor": 0
      },
      "text/plain": [
       "VBox()"
      ]
     },
     "metadata": {},
     "output_type": "display_data"
    },
    {
     "data": {
      "application/vnd.jupyter.widget-view+json": {
       "model_id": "",
       "version_major": 2,
       "version_minor": 0
      },
      "text/plain": [
       "FloatProgress(value=0.0, bar_style='info', description='Progress:', layout=Layout(height='25px', width='50%'),…"
      ]
     },
     "metadata": {},
     "output_type": "display_data"
    }
   ],
   "source": [
    "# glod data (glue에 저장된 silver data와 code table 과의 join)\n",
    "trips_glod_df = sqlContext.sql(\"\"\"\n",
    "SELECT \n",
    "    s.passenger_count,\n",
    "    s.pickup_location_id,\n",
    "    s.dropoff_location_id,\n",
    "    s.trip_distance,\n",
    "    s.pickup_time,\n",
    "    s.total_amount,\n",
    "    pz.Zone as pickup_zone,\n",
    "    dz.Zone as dropoff_zone\n",
    "FROM \n",
    "    tlc_glue_database.trips_silver_view s\n",
    "    LEFT JOIN \n",
    "        zone_view pz\n",
    "    ON\n",
    "        s.pickup_location_id = pz.LocationID\n",
    "    LEFT JOIN\n",
    "        zone_view dz\n",
    "    ON \n",
    "        s.dropoff_location_id = dz.LocationID\n",
    "\"\"\")\n",
    "\n",
    "trips_glod_df.createOrReplaceTempView(\"trips_gold_df\")"
   ]
  },
  {
   "cell_type": "code",
   "execution_count": 21,
   "metadata": {
    "execution": {
     "iopub.execute_input": "2022-02-08T16:41:23.362057Z",
     "iopub.status.busy": "2022-02-08T16:41:23.361834Z",
     "iopub.status.idle": "2022-02-08T16:41:26.683089Z",
     "shell.execute_reply": "2022-02-08T16:41:26.682492Z",
     "shell.execute_reply.started": "2022-02-08T16:41:23.362032Z"
    },
    "tags": []
   },
   "outputs": [
    {
     "data": {
      "application/vnd.jupyter.widget-view+json": {
       "model_id": "d941a7daf938417b847f97f9e1bb6fd6",
       "version_major": 2,
       "version_minor": 0
      },
      "text/plain": [
       "VBox()"
      ]
     },
     "metadata": {},
     "output_type": "display_data"
    },
    {
     "data": {
      "application/vnd.jupyter.widget-view+json": {
       "model_id": "",
       "version_major": 2,
       "version_minor": 0
      },
      "text/plain": [
       "FloatProgress(value=0.0, bar_style='info', description='Progress:', layout=Layout(height='25px', width='50%'),…"
      ]
     },
     "metadata": {},
     "output_type": "display_data"
    },
    {
     "name": "stdout",
     "output_type": "stream",
     "text": [
      "+---------------+------------------+-------------------+-------------+-----------+------------+--------------------+--------------------+\n",
      "|passenger_count|pickup_location_id|dropoff_location_id|trip_distance|pickup_time|total_amount|         pickup_zone|        dropoff_zone|\n",
      "+---------------+------------------+-------------------+-------------+-----------+------------+--------------------+--------------------+\n",
      "|              0|               140|                164|          2.6|          0|        13.8|     Lenox Hill East|       Midtown South|\n",
      "|              1|               132|                130|          6.1|          0|        20.3|         JFK Airport|             Jamaica|\n",
      "|              1|               132|                256|         16.1|          0|       55.35|         JFK Airport|Williamsburg (Sou...|\n",
      "|              1|               164|                164|          0.7|          0|         9.3|       Midtown South|       Midtown South|\n",
      "|              1|               264|                239|         3.03|          0|       18.36|                  NV|Upper West Side S...|\n",
      "|              1|               143|                238|         2.07|          0|        13.8| Lincoln Square West|Upper West Side N...|\n",
      "|              1|               138|                132|        11.22|          0|        34.3|   LaGuardia Airport|         JFK Airport|\n",
      "|              3|               239|                186|          2.9|          0|       17.16|Upper West Side S...|Penn Station/Madi...|\n",
      "|              1|               138|                152|          7.8|          0|       42.12|   LaGuardia Airport|      Manhattanville|\n",
      "|              1|               132|                 33|         18.6|          0|       55.88|         JFK Airport|    Brooklyn Heights|\n",
      "+---------------+------------------+-------------------+-------------+-----------+------------+--------------------+--------------------+"
     ]
    }
   ],
   "source": [
    "spark.sql(\"select * from trips_gold_df limit 10\").show()"
   ]
  },
  {
   "cell_type": "code",
   "execution_count": 22,
   "metadata": {
    "execution": {
     "iopub.execute_input": "2022-02-08T16:41:30.371603Z",
     "iopub.status.busy": "2022-02-08T16:41:30.371371Z",
     "iopub.status.idle": "2022-02-08T16:50:43.851183Z",
     "shell.execute_reply": "2022-02-08T16:50:43.850432Z",
     "shell.execute_reply.started": "2022-02-08T16:41:30.371577Z"
    },
    "tags": []
   },
   "outputs": [
    {
     "data": {
      "application/vnd.jupyter.widget-view+json": {
       "model_id": "ea26ca1c0ea54a678ddbdb1239440825",
       "version_major": 2,
       "version_minor": 0
      },
      "text/plain": [
       "VBox()"
      ]
     },
     "metadata": {},
     "output_type": "display_data"
    },
    {
     "data": {
      "application/vnd.jupyter.widget-view+json": {
       "model_id": "",
       "version_major": 2,
       "version_minor": 0
      },
      "text/plain": [
       "FloatProgress(value=0.0, bar_style='info', description='Progress:', layout=Layout(height='25px', width='50%'),…"
      ]
     },
     "metadata": {},
     "output_type": "display_data"
    }
   ],
   "source": [
    "jdbc_hostname = \"\"\n",
    "jdbc_database = \"dm\"\n",
    "username=\"\"\n",
    "password=\"\"\n",
    "jdbc_port = 3306\n",
    "jdbc_url = \"jdbc:mysql://{0}:{1}/{2}?characterEncoding=UTF-8\".format(jdbc_hostname, jdbc_port, jdbc_database)\n",
    "\n",
    "trips_glod_df.write \\\n",
    "    .format(\"jdbc\").option(\"url\", f\"{jdbc_url}\") \\\n",
    "    .option(\"driver\", \"com.mysql.jdbc.Driver\").option(\"dbtable\", \"trips_glod_df\") \\\n",
    "    .option(\"user\", f\"{username}\").option(\"password\", f\"{password}\").mode(\"append\").save()"
   ]
  },
  {
   "cell_type": "code",
   "execution_count": 26,
   "metadata": {
    "execution": {
     "iopub.execute_input": "2022-02-08T16:51:32.211349Z",
     "iopub.status.busy": "2022-02-08T16:51:32.211120Z",
     "iopub.status.idle": "2022-02-08T16:51:39.510654Z",
     "shell.execute_reply": "2022-02-08T16:51:39.510026Z",
     "shell.execute_reply.started": "2022-02-08T16:51:32.211325Z"
    },
    "tags": []
   },
   "outputs": [
    {
     "data": {
      "application/vnd.jupyter.widget-view+json": {
       "model_id": "3d4509a592294cfaa72743082a4db0ad",
       "version_major": 2,
       "version_minor": 0
      },
      "text/plain": [
       "VBox()"
      ]
     },
     "metadata": {},
     "output_type": "display_data"
    },
    {
     "data": {
      "application/vnd.jupyter.widget-view+json": {
       "model_id": "",
       "version_major": 2,
       "version_minor": 0
      },
      "text/plain": [
       "FloatProgress(value=0.0, bar_style='info', description='Progress:', layout=Layout(height='25px', width='50%'),…"
      ]
     },
     "metadata": {},
     "output_type": "display_data"
    }
   ],
   "source": [
    "data_dir = \"s3://\"+ bucket +\"/tlc_tripsdata/glod/trips_json/\"\n",
    "trips_glod_df.coalesce(1).write.format(\"json\").mode('overwrite').save(f\"{data_dir}\")\n"
   ]
  },
  {
   "cell_type": "code",
   "execution_count": null,
   "metadata": {},
   "outputs": [],
   "source": []
  },
  {
   "cell_type": "code",
   "execution_count": null,
   "metadata": {},
   "outputs": [],
   "source": []
  },
  {
   "cell_type": "code",
   "execution_count": null,
   "metadata": {},
   "outputs": [],
   "source": []
  },
  {
   "cell_type": "code",
   "execution_count": null,
   "metadata": {},
   "outputs": [],
   "source": []
  },
  {
   "cell_type": "code",
   "execution_count": null,
   "metadata": {},
   "outputs": [],
   "source": []
  }
 ],
 "metadata": {
  "kernelspec": {
   "display_name": "PySpark",
   "language": "",
   "name": "pysparkkernel"
  },
  "language_info": {
   "codemirror_mode": {
    "name": "python",
    "version": 3
   },
   "mimetype": "text/x-python",
   "name": "pyspark",
   "pygments_lexer": "python3"
  }
 },
 "nbformat": 4,
 "nbformat_minor": 4
}
